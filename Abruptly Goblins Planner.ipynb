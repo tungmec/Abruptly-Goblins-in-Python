{
 "cells": [
  {
   "cell_type": "code",
   "execution_count": 61,
   "metadata": {},
   "outputs": [],
   "source": [
    "gamers = []"
   ]
  },
  {
   "cell_type": "code",
   "execution_count": 62,
   "metadata": {},
   "outputs": [],
   "source": [
    "def add_gamer(gamer, gamers_list):\n",
    "    if (\"name\" in gamer) and (\"availability\" in gamer):\n",
    "        gamers_list.append(gamer)"
   ]
  },
  {
   "cell_type": "code",
   "execution_count": 63,
   "metadata": {},
   "outputs": [
    {
     "name": "stdout",
     "output_type": "stream",
     "text": [
      "[{'name': 'Kimberly Warner', 'availability': ['Monday', 'Tuesday', 'Friday']}]\n"
     ]
    }
   ],
   "source": [
    "kimberly = {\"name\": \"Kimberly Warner\", \"availability\": [\"Monday\", \"Tuesday\", \"Friday\"]}\n",
    "add_gamer(kimberly, gamers)\n",
    "print(gamers)"
   ]
  },
  {
   "cell_type": "code",
   "execution_count": 64,
   "metadata": {},
   "outputs": [
    {
     "name": "stdout",
     "output_type": "stream",
     "text": [
      "[{'name': 'Kimberly Warner', 'availability': ['Monday', 'Tuesday', 'Friday']}, {'name': 'Thomas Nelson', 'availability': ['Tuesday', 'Thursday', 'Saturday']}, {'name': 'Joyce Sellers', 'availability': ['Monday', 'Wednesday', 'Friday', 'Saturday']}, {'name': 'Michelle Reyes', 'availability': ['Wednesday', 'Thursday', 'Sunday']}, {'name': 'Stephen Adams', 'availability': ['Thursday', 'Saturday']}, {'name': 'Joanne Lynn', 'availability': ['Monday', 'Thursday']}, {'name': 'Latasha Bryan', 'availability': ['Monday', 'Sunday']}, {'name': 'Crystal Brewer', 'availability': ['Thursday', 'Friday', 'Saturday']}, {'name': 'James Barnes Jr.', 'availability': ['Tuesday', 'Wednesday', 'Thursday', 'Sunday']}, {'name': 'Michel Trujillo', 'availability': ['Monday', 'Tuesday', 'Wednesday']}]\n"
     ]
    }
   ],
   "source": [
    "add_gamer({'name':'Thomas Nelson','availability': [\"Tuesday\", \"Thursday\", \"Saturday\"]}, gamers)\n",
    "add_gamer({'name':'Joyce Sellers','availability': [\"Monday\", \"Wednesday\", \"Friday\", \"Saturday\"]}, gamers)\n",
    "add_gamer({'name':'Michelle Reyes','availability': [\"Wednesday\", \"Thursday\", \"Sunday\"]}, gamers)\n",
    "add_gamer({'name':'Stephen Adams','availability': [\"Thursday\", \"Saturday\"]}, gamers)\n",
    "add_gamer({'name': 'Joanne Lynn', 'availability': [\"Monday\", \"Thursday\"]}, gamers)\n",
    "add_gamer({'name':'Latasha Bryan','availability': [\"Monday\", \"Sunday\"]}, gamers)\n",
    "add_gamer({'name':'Crystal Brewer','availability': [\"Thursday\", \"Friday\", \"Saturday\"]}, gamers)\n",
    "add_gamer({'name':'James Barnes Jr.','availability': [\"Tuesday\", \"Wednesday\", \"Thursday\", \"Sunday\"]}, gamers)\n",
    "\n",
    "add_gamer({'name':'Michel Trujillo','availability': [\"Monday\", \"Tuesday\", \"Wednesday\"]}, gamers)\n",
    "print(gamers)"
   ]
  },
  {
   "cell_type": "code",
   "execution_count": 65,
   "metadata": {},
   "outputs": [
    {
     "name": "stdout",
     "output_type": "stream",
     "text": [
      "{'Monday': 0, 'Tuesday': 0, 'Wednesday': 0, 'Thursday': 0, 'Friday': 0, 'Saturday': 0, 'Sunday': 0}\n"
     ]
    }
   ],
   "source": [
    "def build_daily_frequency_tabble():\n",
    "    return {'Monday': 0,'Tuesday': 0,'Wednesday': 0,'Thursday': 0,'Friday': 0,'Saturday': 0,'Sunday': 0 }\n",
    "count_availability = build_daily_frequency_tabble()\n",
    "print(count_availability)"
   ]
  },
  {
   "cell_type": "code",
   "execution_count": 66,
   "metadata": {},
   "outputs": [],
   "source": [
    "def calculate_availability(gamers_list, available_frequency):\n",
    "    for gamer in gamers_list:\n",
    "        for day in gamer[\"availability\"]:\n",
    "            available_frequency[day] += 1\n"
   ]
  },
  {
   "cell_type": "code",
   "execution_count": 67,
   "metadata": {
    "scrolled": true
   },
   "outputs": [
    {
     "name": "stdout",
     "output_type": "stream",
     "text": [
      "{'Monday': 5, 'Tuesday': 4, 'Wednesday': 4, 'Thursday': 6, 'Friday': 3, 'Saturday': 4, 'Sunday': 3}\n"
     ]
    }
   ],
   "source": [
    "calculate_availability(gamers, count_availability)\n",
    "print(count_availability)"
   ]
  },
  {
   "cell_type": "code",
   "execution_count": 68,
   "metadata": {},
   "outputs": [],
   "source": [
    "def find_best_night(availability_table):\n",
    "    max = 0\n",
    "    result = \"\"\n",
    "    for day in availability_table:\n",
    "        if (availability_table[day] > max):\n",
    "            max = availability_table[day]\n",
    "            result = day\n",
    "    return result\n",
    "\n"
   ]
  },
  {
   "cell_type": "code",
   "execution_count": 69,
   "metadata": {},
   "outputs": [
    {
     "name": "stdout",
     "output_type": "stream",
     "text": [
      "Thursday\n"
     ]
    }
   ],
   "source": [
    "game_night = find_best_night(count_availability)\n",
    "print(game_night)"
   ]
  },
  {
   "cell_type": "code",
   "execution_count": 70,
   "metadata": {},
   "outputs": [
    {
     "name": "stdout",
     "output_type": "stream",
     "text": [
      "['Thomas Nelson', 'Michelle Reyes', 'Stephen Adams', 'Joanne Lynn', 'Crystal Brewer', 'James Barnes Jr.']\n"
     ]
    }
   ],
   "source": [
    "def available_on_night(gamers_list, day):\n",
    "    result = []\n",
    "    for gamer in gamers_list:\n",
    "        if (day in gamer[\"availability\"]):\n",
    "            result.append(gamer[\"name\"])\n",
    "    return result\n",
    "\n",
    "attending_game_night = available_on_night(gamers, game_night)\n",
    "print(attending_game_night)"
   ]
  },
  {
   "cell_type": "code",
   "execution_count": 71,
   "metadata": {},
   "outputs": [],
   "source": [
    "# định nghĩa string mẫu với các biến nội suy\n",
    "form_email = \"\"\"\n",
    "Hello {name},\n",
    "\n",
    "We’re excited to let you know that your game night is scheduled!\n",
    "This week, on {day_of_week}, you and your group will be playing {game}.\n",
    "\n",
    "Get ready for a fun night of adventure!\n",
    "\n",
    "Best,\n",
    "The Game Night Team\n",
    "\"\"\"\n",
    "\n"
   ]
  },
  {
   "cell_type": "code",
   "execution_count": null,
   "metadata": {},
   "outputs": [],
   "source": [
    "def send_email(gamers_who_can_attend, day, game ):\n",
    "    for gamer in gamers_who_can_attend:\n",
    "        print(form_email.format(name = gamer, day_of_week = day, game = game ))\n",
    "\n",
    "send_email(attending_game_night, game_night, \"Abruptly Goblins!\")"
   ]
  },
  {
   "cell_type": "code",
   "execution_count": 77,
   "metadata": {},
   "outputs": [
    {
     "name": "stdout",
     "output_type": "stream",
     "text": [
      "Monday\n"
     ]
    }
   ],
   "source": [
    "unable_to_attend_best_night = []\n",
    "for gamer in gamers:\n",
    "    if  not (gamer[\"name\"] in attending_game_night ):\n",
    "        unable_to_attend_best_night.append(gamer) \n",
    "second_night_availability = build_daily_frequency_tabble()\n",
    "calculate_availability(unable_to_attend_best_night, second_night_availability)\n",
    "second_night = find_best_night(second_night_availability)\n",
    "print(second_night)"
   ]
  },
  {
   "cell_type": "code",
   "execution_count": 78,
   "metadata": {},
   "outputs": [
    {
     "name": "stdout",
     "output_type": "stream",
     "text": [
      "\n",
      "Hello Kimberly Warner,\n",
      "\n",
      "We’re excited to let you know that your game night is scheduled!\n",
      "This week, on Monday, you and your group will be playing Abruptly Goblins!.\n",
      "\n",
      "Get ready for a fun night of adventure!\n",
      "\n",
      "Best,\n",
      "The Game Night Team\n",
      "\n",
      "\n",
      "Hello Joyce Sellers,\n",
      "\n",
      "We’re excited to let you know that your game night is scheduled!\n",
      "This week, on Monday, you and your group will be playing Abruptly Goblins!.\n",
      "\n",
      "Get ready for a fun night of adventure!\n",
      "\n",
      "Best,\n",
      "The Game Night Team\n",
      "\n",
      "\n",
      "Hello Joanne Lynn,\n",
      "\n",
      "We’re excited to let you know that your game night is scheduled!\n",
      "This week, on Monday, you and your group will be playing Abruptly Goblins!.\n",
      "\n",
      "Get ready for a fun night of adventure!\n",
      "\n",
      "Best,\n",
      "The Game Night Team\n",
      "\n",
      "\n",
      "Hello Latasha Bryan,\n",
      "\n",
      "We’re excited to let you know that your game night is scheduled!\n",
      "This week, on Monday, you and your group will be playing Abruptly Goblins!.\n",
      "\n",
      "Get ready for a fun night of adventure!\n",
      "\n",
      "Best,\n",
      "The Game Night Team\n",
      "\n",
      "\n",
      "Hello Michel Trujillo,\n",
      "\n",
      "We’re excited to let you know that your game night is scheduled!\n",
      "This week, on Monday, you and your group will be playing Abruptly Goblins!.\n",
      "\n",
      "Get ready for a fun night of adventure!\n",
      "\n",
      "Best,\n",
      "The Game Night Team\n",
      "\n"
     ]
    }
   ],
   "source": [
    "available_second_game_night = available_on_night(gamers,second_night)\n",
    "send_email(available_second_game_night, second_night, \"Abruptly Goblins!\")"
   ]
  }
 ],
 "metadata": {
  "kernelspec": {
   "display_name": "Python 3",
   "language": "python",
   "name": "python3"
  },
  "language_info": {
   "codemirror_mode": {
    "name": "ipython",
    "version": 3
   },
   "file_extension": ".py",
   "mimetype": "text/x-python",
   "name": "python",
   "nbconvert_exporter": "python",
   "pygments_lexer": "ipython3",
   "version": "3.13.7"
  }
 },
 "nbformat": 4,
 "nbformat_minor": 2
}
